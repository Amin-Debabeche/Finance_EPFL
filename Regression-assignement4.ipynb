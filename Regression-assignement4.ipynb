{
 "cells": [
  {
   "cell_type": "code",
   "execution_count": null,
   "metadata": {},
   "outputs": [
    {
     "name": "stderr",
     "output_type": "stream",
     "text": [
      "/opt/miniconda3/lib/python3.8/site-packages/scipy/stats/_stats_mstats_common.py:130: RuntimeWarning: invalid value encountered in double_scalars\n",
      "  slope = r_num / ssxm\n",
      "/opt/miniconda3/lib/python3.8/site-packages/scipy/stats/_stats_mstats_common.py:142: RuntimeWarning: divide by zero encountered in double_scalars\n",
      "  sterrest = np.sqrt((1 - r**2) * ssym / ssxm / df)\n",
      "/opt/miniconda3/lib/python3.8/site-packages/scipy/stats/_stats_mstats_common.py:130: RuntimeWarning: invalid value encountered in double_scalars\n",
      "  slope = r_num / ssxm\n",
      "/opt/miniconda3/lib/python3.8/site-packages/scipy/stats/_stats_mstats_common.py:142: RuntimeWarning: divide by zero encountered in double_scalars\n",
      "  sterrest = np.sqrt((1 - r**2) * ssym / ssxm / df)\n",
      "/opt/miniconda3/lib/python3.8/site-packages/scipy/stats/_stats_mstats_common.py:130: RuntimeWarning: invalid value encountered in double_scalars\n",
      "  slope = r_num / ssxm\n",
      "/opt/miniconda3/lib/python3.8/site-packages/scipy/stats/_stats_mstats_common.py:142: RuntimeWarning: divide by zero encountered in double_scalars\n",
      "  sterrest = np.sqrt((1 - r**2) * ssym / ssxm / df)\n",
      "/opt/miniconda3/lib/python3.8/site-packages/scipy/stats/_stats_mstats_common.py:130: RuntimeWarning: invalid value encountered in double_scalars\n",
      "  slope = r_num / ssxm\n",
      "/opt/miniconda3/lib/python3.8/site-packages/scipy/stats/_stats_mstats_common.py:142: RuntimeWarning: divide by zero encountered in double_scalars\n",
      "  sterrest = np.sqrt((1 - r**2) * ssym / ssxm / df)\n",
      "/opt/miniconda3/lib/python3.8/site-packages/scipy/stats/_stats_mstats_common.py:130: RuntimeWarning: invalid value encountered in double_scalars\n",
      "  slope = r_num / ssxm\n",
      "/opt/miniconda3/lib/python3.8/site-packages/scipy/stats/_stats_mstats_common.py:142: RuntimeWarning: divide by zero encountered in double_scalars\n",
      "  sterrest = np.sqrt((1 - r**2) * ssym / ssxm / df)\n",
      "/opt/miniconda3/lib/python3.8/site-packages/scipy/stats/_stats_mstats_common.py:130: RuntimeWarning: invalid value encountered in double_scalars\n",
      "  slope = r_num / ssxm\n",
      "/opt/miniconda3/lib/python3.8/site-packages/scipy/stats/_stats_mstats_common.py:142: RuntimeWarning: divide by zero encountered in double_scalars\n",
      "  sterrest = np.sqrt((1 - r**2) * ssym / ssxm / df)\n",
      "/opt/miniconda3/lib/python3.8/site-packages/scipy/stats/_stats_mstats_common.py:130: RuntimeWarning: invalid value encountered in double_scalars\n",
      "  slope = r_num / ssxm\n",
      "/opt/miniconda3/lib/python3.8/site-packages/scipy/stats/_stats_mstats_common.py:142: RuntimeWarning: divide by zero encountered in double_scalars\n",
      "  sterrest = np.sqrt((1 - r**2) * ssym / ssxm / df)\n",
      "/opt/miniconda3/lib/python3.8/site-packages/scipy/stats/_stats_mstats_common.py:130: RuntimeWarning: invalid value encountered in double_scalars\n",
      "  slope = r_num / ssxm\n",
      "/opt/miniconda3/lib/python3.8/site-packages/scipy/stats/_stats_mstats_common.py:142: RuntimeWarning: divide by zero encountered in double_scalars\n",
      "  sterrest = np.sqrt((1 - r**2) * ssym / ssxm / df)\n",
      "/opt/miniconda3/lib/python3.8/site-packages/scipy/stats/_stats_mstats_common.py:130: RuntimeWarning: invalid value encountered in double_scalars\n",
      "  slope = r_num / ssxm\n",
      "/opt/miniconda3/lib/python3.8/site-packages/scipy/stats/_stats_mstats_common.py:142: RuntimeWarning: divide by zero encountered in double_scalars\n",
      "  sterrest = np.sqrt((1 - r**2) * ssym / ssxm / df)\n"
     ]
    }
   ],
   "source": [
    "from scipy import stats\n",
    "import numpy as np\n",
    "import statsmodels.api as sm\n",
    "import statistics\n",
    "import pandas as pd\n",
    "import numpy as np\n",
    "import matplotlib.pyplot as plt  # To visualize\n",
    "import pandas as pd  # To read data\n",
    "from sklearn.linear_model import LinearRegression\n",
    "\n",
    "\n",
    "data = pd.read_excel('stocks-2.xlsx')  # load data set\n",
    "\n",
    "fig, axs = plt.subplots(4, 3,figsize=(50,50))\n",
    "a=0\n",
    "b=0\n",
    "\n",
    "betai = []\n",
    "alphai = []\n",
    "R_2i = []\n",
    "t_testi = []\n",
    "observationsi = []\n",
    "jenseni = []\n",
    "\n",
    "for l in range(1, 13):\n",
    "    \n",
    "\n",
    "    \n",
    "    X = data.iloc[1:-2, 13].values.reshape(-1, 1)  # values converts it into a numpy array\n",
    "    Y = data.iloc[1:-2, l].values.reshape(-1, 1)  # -1 means that calculate the dimension of rows, but have 1 column\n",
    "    linear_regressor = LinearRegression()  # create object for the class\n",
    "    fiit = linear_regressor.fit(X, Y)  # perform linear regression\n",
    "    Y_pred = linear_regressor.predict(X)  # make predictions\n",
    "    axs[a, b].scatter(X, Y)\n",
    "    axs[a, b].plot(X, Y_pred, color='red', label='regression')\n",
    "    axs[a, b].set_title(str(data.columns[l]),fontsize=30)\n",
    "    \n",
    "    slope, intercept, r_value, p_value, std_err = stats.linregress(X[:,0],Y[:,0])\n",
    "    \n",
    "    \n",
    "    X = sm.add_constant(X)\n",
    "    df0 = pd.read_html(sm.OLS(Y, X).fit().summary().tables[0].as_html(),header=0,index_col=0)[0]\n",
    "    df1 = pd.read_html(sm.OLS(Y, X).fit().summary().tables[1].as_html(),header=0,index_col=0)[0]\n",
    "    df2 = pd.read_html(sm.OLS(Y, X).fit().summary().tables[2].as_html(),header=0,index_col=0)[0]\n",
    "    \n",
    "    cst = str(round(df1.coef[0],3))+'±'+str(round(df1['std err'][0],3)) #constant\n",
    "    alpha = df1.coef[0]\n",
    "    alphai.append(alpha)\n",
    "    slope = str(round(df1.coef[1],3))+'±'+str(round(df1['std err'][1],3)) #slope\n",
    "    beta = df1.coef[1]\n",
    "    betai.append(beta)\n",
    "    t_test = str(round(df1.t[1],3)) #t-test\n",
    "    t_testi.append(t_test)\n",
    "    observations = str(df0.y[4]) #number of observtions\n",
    "    observationsi.append(observations)\n",
    "    R_2 = str(round(df0[df0.columns[-1]].iloc[0],3)) # Adjusted squared\n",
    "    R_2i.append(R_2)\n",
    "    rf = 0.167/100\n",
    "    jensen_alpha = statistics.mean(data.iloc[1:-2, l])-(0.167/100) - betai[l-1]*(statistics.mean(data.iloc[1:-2, 13])-(0.167/100))\n",
    "    jenseni.append(jensen_alpha)\n",
    "    \n",
    "    axs[a, b].plot([], [], ' ', label=\"Beta(slope): \"+slope)\n",
    "    axs[a, b].plot([], [], ' ', label=\"Alpha tilted(intercept): \"+cst)\n",
    "    axs[a, b].plot([], [], ' ', label=\"T-test: \"+t_test)\n",
    "    axs[a, b].plot([], [], ' ', label=\"Number of observations: \"+observations)\n",
    "    axs[a, b].plot([], [], ' ', label=\"Adjusted R^2: \"+R_2)\n",
    "    axs[a, b].plot([], [], ' ', label=\"Jensen alpha: \"+str(round(jensen_alpha,4)))   \n",
    "    axs[a, b].legend(loc='best', fontsize=20)\n",
    "\n",
    "    slope, intercept, r_value, p_value, std_err = stats.linregress(X[:,0],Y[:,0])\n",
    "    b = b + 1\n",
    "    if b == 3:\n",
    "        a = a + 1\n",
    "        b = 0\n",
    "    \n",
    "fig.savefig('full_figure.png')"
   ]
  },
  {
   "cell_type": "code",
   "execution_count": 7,
   "metadata": {},
   "outputs": [
    {
     "ename": "IndexError",
     "evalue": "invalid index to scalar variable.",
     "output_type": "error",
     "traceback": [
      "\u001b[0;31m---------------------------------------------------------------------------\u001b[0m",
      "\u001b[0;31mIndexError\u001b[0m                                Traceback (most recent call last)",
      "\u001b[0;32m<ipython-input-7-c7e584fc483b>\u001b[0m in \u001b[0;36m<module>\u001b[0;34m\u001b[0m\n\u001b[0;32m----> 1\u001b[0;31m \u001b[0mjensen_alpha\u001b[0m \u001b[0;34m=\u001b[0m \u001b[0mstatistics\u001b[0m\u001b[0;34m.\u001b[0m\u001b[0mmean\u001b[0m\u001b[0;34m(\u001b[0m\u001b[0mdata\u001b[0m\u001b[0;34m.\u001b[0m\u001b[0miloc\u001b[0m\u001b[0;34m[\u001b[0m\u001b[0;36m1\u001b[0m\u001b[0;34m:\u001b[0m\u001b[0;34m-\u001b[0m\u001b[0;36m2\u001b[0m\u001b[0;34m,\u001b[0m \u001b[0ml\u001b[0m\u001b[0;34m]\u001b[0m\u001b[0;34m)\u001b[0m\u001b[0;34m-\u001b[0m\u001b[0;34m(\u001b[0m\u001b[0;36m0.167\u001b[0m\u001b[0;34m/\u001b[0m\u001b[0;36m100\u001b[0m\u001b[0;34m)\u001b[0m \u001b[0;34m-\u001b[0m \u001b[0mbeta\u001b[0m\u001b[0;34m[\u001b[0m\u001b[0;36m2\u001b[0m\u001b[0;34m]\u001b[0m\u001b[0;34m*\u001b[0m\u001b[0;34m(\u001b[0m\u001b[0mstatistics\u001b[0m\u001b[0;34m.\u001b[0m\u001b[0mmean\u001b[0m\u001b[0;34m(\u001b[0m\u001b[0mdata\u001b[0m\u001b[0;34m.\u001b[0m\u001b[0miloc\u001b[0m\u001b[0;34m[\u001b[0m\u001b[0;36m1\u001b[0m\u001b[0;34m:\u001b[0m\u001b[0;34m-\u001b[0m\u001b[0;36m2\u001b[0m\u001b[0;34m,\u001b[0m \u001b[0;36m13\u001b[0m\u001b[0;34m]\u001b[0m\u001b[0;34m)\u001b[0m\u001b[0;34m-\u001b[0m\u001b[0;34m(\u001b[0m\u001b[0;36m0.167\u001b[0m\u001b[0;34m/\u001b[0m\u001b[0;36m100\u001b[0m\u001b[0;34m)\u001b[0m\u001b[0;34m)\u001b[0m\u001b[0;34m\u001b[0m\u001b[0;34m\u001b[0m\u001b[0m\n\u001b[0m\u001b[1;32m      2\u001b[0m \u001b[0;34m\u001b[0m\u001b[0m\n",
      "\u001b[0;31mIndexError\u001b[0m: invalid index to scalar variable."
     ]
    }
   ],
   "source": [
    "jensen_alpha = statistics.mean(data.iloc[1:-2, l])-(0.167/100) - beta[]*(statistics.mean(data.iloc[1:-2, 13])-(0.167/100))\n",
    "    "
   ]
  },
  {
   "cell_type": "code",
   "execution_count": 8,
   "metadata": {},
   "outputs": [
    {
     "data": {
      "text/plain": [
       "1.0792"
      ]
     },
     "execution_count": 8,
     "metadata": {},
     "output_type": "execute_result"
    }
   ],
   "source": [
    "beta"
   ]
  }
 ],
 "metadata": {
  "kernelspec": {
   "display_name": "Python 3",
   "language": "python",
   "name": "python3"
  },
  "language_info": {
   "codemirror_mode": {
    "name": "ipython",
    "version": 3
   },
   "file_extension": ".py",
   "mimetype": "text/x-python",
   "name": "python",
   "nbconvert_exporter": "python",
   "pygments_lexer": "ipython3",
   "version": "3.8.3"
  }
 },
 "nbformat": 4,
 "nbformat_minor": 4
}
